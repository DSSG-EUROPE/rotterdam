{
 "cells": [
  {
   "cell_type": "code",
   "execution_count": 130,
   "metadata": {
    "collapsed": true
   },
   "outputs": [],
   "source": [
    "AoI_csv_dir = 'input/aoi_ids.csv'\n",
    "label_csv_dir = 'input/labels.csv'\n",
    "features_csv_dir = 'processing/features_table.csv'\n",
    "BAG_Panden = '/home/data/citycentre/BAG_Panden.shp'"
   ]
  },
  {
   "cell_type": "markdown",
   "metadata": {},
   "source": [
    "# Dependencies"
   ]
  },
  {
   "cell_type": "code",
   "execution_count": 131,
   "metadata": {
    "collapsed": true
   },
   "outputs": [],
   "source": [
    "import numpy as np\n",
    "import matplotlib.pyplot as plt\n",
    "from sklearn.cluster import KMeans\n",
    "from sklearn.metrics import pairwise_distances_argmin\n",
    "from sklearn.datasets import load_sample_image\n",
    "from sklearn.utils import shuffle\n",
    "from time import time\n",
    "#from PIL import Image\n",
    "import pandas as pd\n",
    "from shutil import copyfile\n",
    "import matplotlib.image as mpimg\n",
    "import numpy\n",
    "import geopandas as gpd\n",
    "import fiona\n",
    "import rasterio\n",
    "import rasterio.mask\n",
    "from pandas.tools.plotting import scatter_matrix\n",
    "import matplotlib.pyplot as plt\n",
    "from time import time\n",
    "from scipy.stats import randint\n",
    "from sklearn import preprocessing\n",
    "from sklearn.metrics import classification_report\n",
    "from sklearn.metrics import confusion_matrix\n",
    "from sklearn.metrics import accuracy_score\n",
    "from sklearn.metrics import roc_auc_score\n",
    "from sklearn.model_selection import train_test_split\n",
    "from sklearn.model_selection import cross_val_score\n",
    "from sklearn.model_selection import RandomizedSearchCV\n",
    "from sklearn.model_selection import GridSearchCV\n",
    "from sklearn.model_selection import KFold\n",
    "from sklearn.ensemble import GradientBoostingClassifier\n",
    "from sklearn.linear_model import LogisticRegression\n",
    "from sklearn.linear_model import SGDClassifier\n",
    "from sklearn.discriminant_analysis import LinearDiscriminantAnalysis\n",
    "from sklearn.neighbors import KNeighborsClassifier\n",
    "from sklearn.tree import DecisionTreeClassifier\n",
    "from sklearn.naive_bayes import GaussianNB\n",
    "from sklearn.svm import SVC\n",
    "from sklearn.ensemble import RandomForestClassifier\n",
    "from sklearn.mixture import GaussianMixture\n",
    "from sklearn.svm import LinearSVC\n",
    "from sklearn.cluster import MeanShift\n",
    "from sklearn.manifold import LocallyLinearEmbedding\n",
    "import numpy as np\n",
    "import matplotlib.pyplot as plt\n",
    "from sklearn.metrics import pairwise_distances_argmin\n",
    "from sklearn.datasets import load_sample_image\n",
    "from sklearn.utils import shuffle\n",
    "from shapely.geometry import shape\n",
    "from shapely.geometry import Polygon\n",
    "import shapefile\n",
    "import shutil\n",
    "import os\n",
    "import glob"
   ]
  },
  {
   "cell_type": "markdown",
   "metadata": {},
   "source": [
    "# Functions"
   ]
  },
  {
   "cell_type": "code",
   "execution_count": 132,
   "metadata": {
    "collapsed": true
   },
   "outputs": [],
   "source": [
    "def ids_to_shp_visualization(ids_list, directory, name, shape_file=BAG_Panden):\n",
    "\n",
    "    i=0\n",
    "    if not os.path.exists(directory+\"/temporary\"):\n",
    "        os.makedirs(directory+\"/temporary\")\n",
    "    \n",
    "    for identifica in ids_list:\n",
    "        for feat in fiona.open(shape_file, \"r\"):\n",
    "            if identifica==feat['properties']['Identifica']:\n",
    "                try:\n",
    "                \n",
    "                    feat2=feat['properties']['Identifica']\n",
    "                    feat1=[feat['geometry']]\n",
    "                    area_per_roof = feat['properties']['SHAPE_Area']\n",
    "\n",
    "                    with fiona.open(shape_file, \"r\") as shapef:\n",
    "                        meta=shapef.meta\n",
    "                    with fiona.open(directory+'/temporary/'+str(i)+'.shp', 'w', **meta) as sink:\n",
    "                            sink.write(feat)\n",
    "    \n",
    "                    i=i+1\n",
    "                    #if i==1:\n",
    "                    #    break\n",
    "                except ValueError:\n",
    "                    continue\n",
    "    \n",
    "    files = glob.glob(directory+\"/temporary/*.shp\")\n",
    "    w = shapefile.Writer()\n",
    "    for f in files:\n",
    "            r = shapefile.Reader(f)\n",
    "            w._shapes.extend(r.shapes())\n",
    "            w.records.extend(r.records())\n",
    "    w.fields = list(r.fields)\n",
    "    w.save(directory+\"/\"+name+\".shp\")\n",
    "    shutil.rmtree(directory+\"/temporary/\")\n",
    "    "
   ]
  },
  {
   "cell_type": "markdown",
   "metadata": {},
   "source": [
    "# Model"
   ]
  },
  {
   "cell_type": "code",
   "execution_count": 133,
   "metadata": {},
   "outputs": [
    {
     "name": "stdout",
     "output_type": "stream",
     "text": [
      "The IDs have been added.\n"
     ]
    }
   ],
   "source": [
    "aoi_list = []\n",
    "[aoi_list.append(ID) for ID in pd.read_csv(AoI_csv_dir, dtype=str).ID]\n",
    "print('The IDs have been added.')"
   ]
  },
  {
   "cell_type": "code",
   "execution_count": 134,
   "metadata": {},
   "outputs": [
    {
     "data": {
      "text/plain": [
       "(340, 1)"
      ]
     },
     "execution_count": 134,
     "metadata": {},
     "output_type": "execute_result"
    }
   ],
   "source": [
    "label_df = pd.read_csv(label_csv_dir, dtype={'ID':str}).set_index('ID')\n",
    "label_df.label = label_df.label.replace(3,2)\n",
    "label_df.shape"
   ]
  },
  {
   "cell_type": "code",
   "execution_count": 135,
   "metadata": {
    "scrolled": true
   },
   "outputs": [
    {
     "data": {
      "text/plain": [
       "<pandas.core.indexing._LocIndexer at 0x7f33ba71d6a0>"
      ]
     },
     "execution_count": 135,
     "metadata": {},
     "output_type": "execute_result"
    }
   ],
   "source": [
    "features_df = pd.read_csv(features_csv_dir, dtype={'ID':str}).set_index('ID')\n",
    "features_df.loc(['0599100010050372'])"
   ]
  },
  {
   "cell_type": "code",
   "execution_count": 136,
   "metadata": {
    "collapsed": true
   },
   "outputs": [],
   "source": [
    "features_with_label = pd.concat([features_df, label_df], axis=1)\n"
   ]
  },
  {
   "cell_type": "code",
   "execution_count": 137,
   "metadata": {},
   "outputs": [],
   "source": [
    "# Split-out validation dataset\n",
    "\n",
    "X_train = features_with_label.loc[label_df.index].drop('label', 1).dropna()\n",
    "y_train = features_with_label.loc[label_df.index].dropna().label\n",
    "X_test = features_with_label.loc[aoi_list].drop('label', 1).dropna()\n",
    "\n",
    "#print(X_train.shape)\n",
    "#print(y_train.shape)\n",
    "#print(X_test.shape)"
   ]
  },
  {
   "cell_type": "code",
   "execution_count": 138,
   "metadata": {},
   "outputs": [],
   "source": [
    "#y_train.head()"
   ]
  },
  {
   "cell_type": "code",
   "execution_count": 139,
   "metadata": {
    "collapsed": true
   },
   "outputs": [],
   "source": [
    "seed = 0\n",
    "scoring = 'accuracy'"
   ]
  },
  {
   "cell_type": "code",
   "execution_count": 140,
   "metadata": {
    "collapsed": true
   },
   "outputs": [],
   "source": [
    "models = []\n",
    "models.append(('GBC', GradientBoostingClassifier()))\n",
    "models.append(('LR', LogisticRegression()))\n",
    "models.append(('NB', GaussianNB()))\n",
    "models.append(('LDA', LinearDiscriminantAnalysis()))\n",
    "models.append(('KNN', KNeighborsClassifier()))\n",
    "models.append(('CART', DecisionTreeClassifier()))\n",
    "models.append(('SVM', SVC()))\n",
    "models.append(('SGD', SGDClassifier()))\n",
    "models.append(('LSVM', LinearSVC()))"
   ]
  },
  {
   "cell_type": "code",
   "execution_count": 141,
   "metadata": {},
   "outputs": [
    {
     "name": "stdout",
     "output_type": "stream",
     "text": [
      "GBC: 0.855663 (0.086274)\n",
      "LR: 0.826295 (0.099712)\n",
      "NB: 0.802766 (0.116554)\n"
     ]
    },
    {
     "name": "stderr",
     "output_type": "stream",
     "text": [
      "/opt/anaconda/lib/python3.5/site-packages/sklearn/discriminant_analysis.py:387: UserWarning: Variables are collinear.\n",
      "  warnings.warn(\"Variables are collinear.\")\n",
      "/opt/anaconda/lib/python3.5/site-packages/sklearn/discriminant_analysis.py:387: UserWarning: Variables are collinear.\n",
      "  warnings.warn(\"Variables are collinear.\")\n",
      "/opt/anaconda/lib/python3.5/site-packages/sklearn/discriminant_analysis.py:387: UserWarning: Variables are collinear.\n",
      "  warnings.warn(\"Variables are collinear.\")\n",
      "/opt/anaconda/lib/python3.5/site-packages/sklearn/discriminant_analysis.py:455: UserWarning: The priors do not sum to 1. Renormalizing\n",
      "  UserWarning)\n",
      "/opt/anaconda/lib/python3.5/site-packages/sklearn/discriminant_analysis.py:387: UserWarning: Variables are collinear.\n",
      "  warnings.warn(\"Variables are collinear.\")\n",
      "/opt/anaconda/lib/python3.5/site-packages/sklearn/discriminant_analysis.py:387: UserWarning: Variables are collinear.\n",
      "  warnings.warn(\"Variables are collinear.\")\n"
     ]
    },
    {
     "name": "stdout",
     "output_type": "stream",
     "text": [
      "LDA: 0.808472 (0.103322)\n",
      "KNN: 0.811326 (0.071435)\n",
      "CART: 0.761062 (0.078024)\n",
      "SVM: 0.606936 (0.179698)\n",
      "SGD: 0.381080 (0.125629)\n",
      "LSVM: 0.596971 (0.237643)\n"
     ]
    },
    {
     "data": {
      "image/png": "[encoded data removed]",
      "text/plain": [
       "<matplotlib.figure.Figure at 0x7f33ba80ff60>"
      ]
     },
     "metadata": {},
     "output_type": "display_data"
    }
   ],
   "source": [
    "cv_results_mean = []\n",
    "cv_results_std = []\n",
    "results = []\n",
    "names = []\n",
    "\n",
    "for name, model in models:\n",
    "    kfold = KFold(n_splits=5, random_state=seed)\n",
    "    cv_results = cross_val_score(model, X_train, y_train, cv=kfold, scoring=scoring)\n",
    "    results.append(cv_results)\n",
    "    names.append(name)\n",
    "    cv_results_mean.append(cv_results.mean())\n",
    "    cv_results_std.append(cv_results.std())\n",
    "    msg = \"%s: %f (%f)\" % (name, cv_results.mean(), cv_results.std())\n",
    "    print(msg)\n",
    "\n",
    "\n",
    "fig = plt.figure(figsize=(16, 8))\n",
    "fig.suptitle('Algorithm Comparison')\n",
    "ax = fig.add_subplot(111)\n",
    "plt.ylim([0,1])\n",
    "plt.boxplot(results)\n",
    "ax.set_xticklabels(names)\n",
    "plt.xlabel('Model', fontsize=14)\n",
    "plt.ylabel('Accuracy', fontsize=14)\n",
    "plt.show()"
   ]
  },
  {
   "cell_type": "code",
   "execution_count": 142,
   "metadata": {},
   "outputs": [],
   "source": [
    "clf = LogisticRegression()\n",
    "model_train = clf.fit(X_train, y_train)\n",
    "y_pred = clf.predict(X_test)\n",
    "y_pred_proba = clf.predict_proba(X_test).tolist()\n",
    "\n",
    "#print(accuracy_score(y_test, y_pred))\n",
    "#print(confusion_matrix(y_test, y_pred))\n",
    "#print(classification_report(y_test, y_pred))\n",
    "pred_proba = clf.predict_proba(X_test)\n",
    "proba = clf.fit(X_train, y_train).predict_proba(X_test)"
   ]
  },
  {
   "cell_type": "code",
   "execution_count": 143,
   "metadata": {
    "collapsed": true,
    "scrolled": true
   },
   "outputs": [],
   "source": [
    " model_aoi_ids = pd.DataFrame(y_pred_proba, index=X_test.index,\\\n",
    "                                columns=['nonveg_pred_proba', \\\n",
    "                                'green_pred_proba', 'tree_pred_proba'])"
   ]
  },
  {
   "cell_type": "markdown",
   "metadata": {},
   "source": [
    "# AoI IDs Table"
   ]
  },
  {
   "cell_type": "code",
   "execution_count": 144,
   "metadata": {},
   "outputs": [],
   "source": [
    "model_aoi_ids['probability'] = model_aoi_ids[['nonveg_pred_proba','green_pred_proba',\\\n",
    "                                'tree_pred_proba']].max(axis=1)\n",
    "model_aoi_ids.loc[(model_aoi_ids.probability == model_aoi_ids.nonveg_pred_proba, 'classification')] = '1'\n",
    "model_aoi_ids.loc[(model_aoi_ids.probability == model_aoi_ids.green_pred_proba, 'classification')] = '2'\n",
    "model_aoi_ids.loc[(model_aoi_ids.probability == model_aoi_ids.tree_pred_proba, 'classification')] = '4'\n",
    "\n",
    "model_aoi_ids.loc[(model_aoi_ids.classification == '1', 'category')] = 'Non-Vegetation'\n",
    "model_aoi_ids.loc[(model_aoi_ids.classification == '2', 'category')] = 'Vegetation'\n",
    "model_aoi_ids.loc[(model_aoi_ids.classification == '4', 'category')] = 'Trees'"
   ]
  },
  {
   "cell_type": "code",
   "execution_count": 145,
   "metadata": {
    "scrolled": true
   },
   "outputs": [],
   "source": [
    "output_model_aoi_ids = pd.concat([model_aoi_ids, features_with_label.loc[X_test.index]], axis=1, join='inner')"
   ]
  },
  {
   "cell_type": "code",
   "execution_count": 146,
   "metadata": {
    "collapsed": true
   },
   "outputs": [],
   "source": [
    "output_model_aoi_ids.loc[(output_model_aoi_ids['category'] == 'Non-Vegetation', 'area_interest')] = output_model_aoi_ids['total_area']\n",
    "output_model_aoi_ids.loc[(output_model_aoi_ids['category'] == 'Vegetation', 'area_interest')] = output_model_aoi_ids['area_2_02']\n",
    "output_model_aoi_ids.loc[(output_model_aoi_ids['category'] == 'Trees', 'area_interest')] = output_model_aoi_ids['total_area']"
   ]
  },
  {
   "cell_type": "markdown",
   "metadata": {},
   "source": [
    "# AoI Summary Table"
   ]
  },
  {
   "cell_type": "code",
   "execution_count": 147,
   "metadata": {
    "scrolled": true
   },
   "outputs": [],
   "source": [
    "sum_value = output_model_aoi_ids.loc[output_model_aoi_ids['classification'] == 2].area_2_01.sum()"
   ]
  },
  {
   "cell_type": "code",
   "execution_count": 148,
   "metadata": {},
   "outputs": [],
   "source": [
    "model_aoi_summary = output_model_aoi_ids.groupby(['category'])[['category']].count()\n",
    "model_aoi_summary = model_aoi_summary.rename(columns={'category':'building_count'})\n",
    "model_aoi_summary['building_pc'] = model_aoi_summary.building_count/np.sum(model_aoi_summary.building_count)\n",
    "model_aoi_summary['area_sum'] = output_model_aoi_ids.groupby(['category'])[['area_interest']].sum()\n",
    "model_aoi_summary.set_value('Non-Vegetation', 'area_sum', model_aoi_summary.iloc[0].area_sum + sum_value)\n",
    "model_aoi_summary['area_pc'] = model_aoi_summary.area_sum/np.sum(model_aoi_summary.area_sum)\n",
    "output_model_aoi_summary = model_aoi_summary"
   ]
  },
  {
   "cell_type": "markdown",
   "metadata": {},
   "source": [
    "## Visualization"
   ]
  },
  {
   "cell_type": "code",
   "execution_count": 149,
   "metadata": {},
   "outputs": [
    {
     "name": "stdout",
     "output_type": "stream",
     "text": [
      "We now have a list of the IDS for each shapefile.\n"
     ]
    }
   ],
   "source": [
    "nonveg_id = []\n",
    "veg_id = []\n",
    "tree_id = []\n",
    "\n",
    "[nonveg_id.append(i) for i in model_aoi_ids.loc[(model_aoi_ids.classification == '1', 'category')].index]\n",
    "[veg_id.append(i) for i in model_aoi_ids.loc[(model_aoi_ids.classification == '2', 'category')].index]\n",
    "[tree_id.append(i) for i in model_aoi_ids.loc[(model_aoi_ids.classification == '4', 'category')].index]\n",
    "print(\"We now have a list of the IDS for each shapefile.\")"
   ]
  },
  {
   "cell_type": "markdown",
   "metadata": {},
   "source": [
    "# Output"
   ]
  },
  {
   "cell_type": "code",
   "execution_count": 150,
   "metadata": {},
   "outputs": [],
   "source": [
    "ids_to_shp_visualization(nonveg_id, 'output', 'nonvegetation')\n",
    "ids_to_shp_visualization(veg_id, 'output', 'vegetation')\n",
    "ids_to_shp_visualization(tree_id, 'output', 'trees')"
   ]
  },
  {
   "cell_type": "code",
   "execution_count": 151,
   "metadata": {
    "collapsed": true
   },
   "outputs": [],
   "source": [
    "output_model_aoi_ids.to_csv('output/output_model_aoi_ids.csv')\n",
    "model_aoi_summary.to_csv('output/output_model_aoi_summary.csv')"
   ]
  }
 ],
 "metadata": {
  "kernelspec": {
   "display_name": "Python 3",
   "language": "python",
   "name": "python3"
  },
  "language_info": {
   "codemirror_mode": {
    "name": "ipython",
    "version": 3
   },
   "file_extension": ".py",
   "mimetype": "text/x-python",
   "name": "python",
   "nbconvert_exporter": "python",
   "pygments_lexer": "ipython3",
   "version": "3.5.3"
  }
 },
 "nbformat": 4,
 "nbformat_minor": 2
}
